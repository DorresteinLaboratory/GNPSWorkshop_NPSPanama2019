{
 "cells": [
  {
   "cell_type": "markdown",
   "metadata": {},
   "source": [
    "## Multivariate statistics for feature-based molecular networking"
   ]
  },
  {
   "cell_type": "markdown",
   "metadata": {},
   "source": [
    "This jupyter notebook was prepared for the [NPS Panama 2019 GNPS Workshop](https://www.npspanama.org/en/workshop/)."
   ]
  },
  {
   "cell_type": "markdown",
   "metadata": {},
   "source": [
    "Before running this notebook:<br><br>\n",
    "<li><a href=\"https://docs.qiime2.org/2018.11/install/native/#install-qiime-2-within-a-conda-environment\"> install Qiime2</a></li>\n",
    "<li> activate the Qiime2 conda environment by typing:</li>\n",
    "\n",
    "`source activate qiime2-2018.11` <br><br>\n",
    "\n",
    "\n",
    "<li> open this jupyter notebook from within your Qiime2 conda environment</li>"
   ]
  },
  {
   "cell_type": "code",
   "execution_count": 1,
   "metadata": {},
   "outputs": [],
   "source": [
    "import pandas as pd\n",
    "import qiime2 as q2\n",
    "import os\n",
    "path = '/Users/madeleineernst/anaconda3/envs/qiime2-2018.11/bin/' # define path to your qiime2 conda environment\n",
    "os.environ['PATH'] += ':'+path"
   ]
  },
  {
   "cell_type": "markdown",
   "metadata": {},
   "source": [
    "## Perform a Principal Coordinates Analysis (PCoA) and visualize results interactively in Emperor"
   ]
  },
  {
   "cell_type": "markdown",
   "metadata": {},
   "source": [
    "load example feature table"
   ]
  },
  {
   "cell_type": "code",
   "execution_count": 2,
   "metadata": {},
   "outputs": [],
   "source": [
    "ft = pd.read_csv('ftp://massive.ucsd.edu/MSV000082678/updates/2018-08-02_lfnothias_4ee107d3/other/MZmine-GNPS_AG_test_featuretable.csv')"
   ]
  },
  {
   "cell_type": "code",
   "execution_count": 3,
   "metadata": {},
   "outputs": [
    {
     "data": {
      "text/html": [
       "<div>\n",
       "<style scoped>\n",
       "    .dataframe tbody tr th:only-of-type {\n",
       "        vertical-align: middle;\n",
       "    }\n",
       "\n",
       "    .dataframe tbody tr th {\n",
       "        vertical-align: top;\n",
       "    }\n",
       "\n",
       "    .dataframe thead th {\n",
       "        text-align: right;\n",
       "    }\n",
       "</style>\n",
       "<table border=\"1\" class=\"dataframe\">\n",
       "  <thead>\n",
       "    <tr style=\"text-align: right;\">\n",
       "      <th></th>\n",
       "      <th>row ID</th>\n",
       "      <th>row m/z</th>\n",
       "      <th>row retention time</th>\n",
       "      <th>row number of detected peaks</th>\n",
       "      <th>10232_P4_RE4_01_476.mzXML Peak area</th>\n",
       "      <th>10765_P4_RE9_01_482.mzXML Peak area</th>\n",
       "      <th>10546_P4_RG11_01_515.mzXML Peak area</th>\n",
       "      <th>11035_P4_RB4_01_431.mzXML Peak area</th>\n",
       "      <th>11163_P4_RB11_01_439.mzXML Peak area</th>\n",
       "      <th>13541_P4_RG3_01_506.mzXML Peak area</th>\n",
       "      <th>...</th>\n",
       "      <th>16501_P2_RD9_01_210.mzXML Peak area</th>\n",
       "      <th>14880_P3_RA3_01_290.mzXML Peak area</th>\n",
       "      <th>15581_P2_RD4_01_203.mzXML Peak area</th>\n",
       "      <th>29342_P5_RF3_01_620.mzXML Peak area</th>\n",
       "      <th>15623_P2_RC3_01_187.mzXML Peak area</th>\n",
       "      <th>12262_P1_RE5_01_94.mzXML Peak area</th>\n",
       "      <th>27373_P2_RD5_01_204.mzXML Peak area</th>\n",
       "      <th>31878_P1_RH3_01_131.mzXML Peak area</th>\n",
       "      <th>14563_P1_RE10_01_99.mzXML Peak area</th>\n",
       "      <th>Unnamed: 26</th>\n",
       "    </tr>\n",
       "  </thead>\n",
       "  <tbody>\n",
       "    <tr>\n",
       "      <th>0</th>\n",
       "      <td>1</td>\n",
       "      <td>108.517902</td>\n",
       "      <td>10.245050</td>\n",
       "      <td>19</td>\n",
       "      <td>1.389687e+06</td>\n",
       "      <td>1.401753e+06</td>\n",
       "      <td>1.402785e+06</td>\n",
       "      <td>1.655499e+06</td>\n",
       "      <td>1.426946e+06</td>\n",
       "      <td>1.405056e+06</td>\n",
       "      <td>...</td>\n",
       "      <td>1.239958e+06</td>\n",
       "      <td>1384508.972</td>\n",
       "      <td>1.321642e+06</td>\n",
       "      <td>1.342898e+06</td>\n",
       "      <td>1.428610e+06</td>\n",
       "      <td>0.0000</td>\n",
       "      <td>1.309347e+06</td>\n",
       "      <td>0.0000</td>\n",
       "      <td>0.0000</td>\n",
       "      <td>NaN</td>\n",
       "    </tr>\n",
       "    <tr>\n",
       "      <th>1</th>\n",
       "      <td>2</td>\n",
       "      <td>184.985602</td>\n",
       "      <td>10.245289</td>\n",
       "      <td>22</td>\n",
       "      <td>8.248547e+05</td>\n",
       "      <td>8.793291e+05</td>\n",
       "      <td>8.107117e+05</td>\n",
       "      <td>9.185384e+05</td>\n",
       "      <td>9.049359e+05</td>\n",
       "      <td>8.638445e+05</td>\n",
       "      <td>...</td>\n",
       "      <td>7.974609e+05</td>\n",
       "      <td>859813.054</td>\n",
       "      <td>8.211478e+05</td>\n",
       "      <td>7.643052e+05</td>\n",
       "      <td>8.594064e+05</td>\n",
       "      <td>319453.1235</td>\n",
       "      <td>8.126216e+05</td>\n",
       "      <td>321342.3140</td>\n",
       "      <td>343921.0690</td>\n",
       "      <td>NaN</td>\n",
       "    </tr>\n",
       "    <tr>\n",
       "      <th>2</th>\n",
       "      <td>3</td>\n",
       "      <td>99.513035</td>\n",
       "      <td>10.244318</td>\n",
       "      <td>19</td>\n",
       "      <td>7.799635e+05</td>\n",
       "      <td>8.090166e+05</td>\n",
       "      <td>7.848383e+05</td>\n",
       "      <td>9.183559e+05</td>\n",
       "      <td>8.693485e+05</td>\n",
       "      <td>8.253388e+05</td>\n",
       "      <td>...</td>\n",
       "      <td>6.907975e+05</td>\n",
       "      <td>755029.159</td>\n",
       "      <td>7.258752e+05</td>\n",
       "      <td>7.271235e+05</td>\n",
       "      <td>8.049578e+05</td>\n",
       "      <td>0.0000</td>\n",
       "      <td>7.299963e+05</td>\n",
       "      <td>38.4895</td>\n",
       "      <td>0.0000</td>\n",
       "      <td>NaN</td>\n",
       "    </tr>\n",
       "    <tr>\n",
       "      <th>3</th>\n",
       "      <td>4</td>\n",
       "      <td>176.971991</td>\n",
       "      <td>10.456467</td>\n",
       "      <td>15</td>\n",
       "      <td>3.371037e+06</td>\n",
       "      <td>3.594239e+06</td>\n",
       "      <td>3.335428e+06</td>\n",
       "      <td>4.762133e+06</td>\n",
       "      <td>4.446552e+06</td>\n",
       "      <td>4.146208e+06</td>\n",
       "      <td>...</td>\n",
       "      <td>1.864347e+06</td>\n",
       "      <td>3200536.931</td>\n",
       "      <td>2.686900e+06</td>\n",
       "      <td>2.419854e+06</td>\n",
       "      <td>2.592536e+06</td>\n",
       "      <td>28303.9595</td>\n",
       "      <td>2.038651e+06</td>\n",
       "      <td>83238.3495</td>\n",
       "      <td>83362.9450</td>\n",
       "      <td>NaN</td>\n",
       "    </tr>\n",
       "    <tr>\n",
       "      <th>4</th>\n",
       "      <td>6</td>\n",
       "      <td>186.956412</td>\n",
       "      <td>10.470755</td>\n",
       "      <td>15</td>\n",
       "      <td>3.649388e+06</td>\n",
       "      <td>2.918580e+06</td>\n",
       "      <td>3.566568e+06</td>\n",
       "      <td>3.498500e+06</td>\n",
       "      <td>4.051221e+06</td>\n",
       "      <td>3.776598e+06</td>\n",
       "      <td>...</td>\n",
       "      <td>2.684875e+06</td>\n",
       "      <td>2989385.944</td>\n",
       "      <td>2.762750e+06</td>\n",
       "      <td>2.746261e+06</td>\n",
       "      <td>2.481040e+06</td>\n",
       "      <td>100953.5900</td>\n",
       "      <td>2.617118e+06</td>\n",
       "      <td>430218.5365</td>\n",
       "      <td>368020.7355</td>\n",
       "      <td>NaN</td>\n",
       "    </tr>\n",
       "  </tbody>\n",
       "</table>\n",
       "<p>5 rows × 27 columns</p>\n",
       "</div>"
      ],
      "text/plain": [
       "   row ID     row m/z  row retention time  row number of detected peaks  \\\n",
       "0       1  108.517902           10.245050                            19   \n",
       "1       2  184.985602           10.245289                            22   \n",
       "2       3   99.513035           10.244318                            19   \n",
       "3       4  176.971991           10.456467                            15   \n",
       "4       6  186.956412           10.470755                            15   \n",
       "\n",
       "   10232_P4_RE4_01_476.mzXML Peak area  10765_P4_RE9_01_482.mzXML Peak area  \\\n",
       "0                         1.389687e+06                         1.401753e+06   \n",
       "1                         8.248547e+05                         8.793291e+05   \n",
       "2                         7.799635e+05                         8.090166e+05   \n",
       "3                         3.371037e+06                         3.594239e+06   \n",
       "4                         3.649388e+06                         2.918580e+06   \n",
       "\n",
       "   10546_P4_RG11_01_515.mzXML Peak area  11035_P4_RB4_01_431.mzXML Peak area  \\\n",
       "0                          1.402785e+06                         1.655499e+06   \n",
       "1                          8.107117e+05                         9.185384e+05   \n",
       "2                          7.848383e+05                         9.183559e+05   \n",
       "3                          3.335428e+06                         4.762133e+06   \n",
       "4                          3.566568e+06                         3.498500e+06   \n",
       "\n",
       "   11163_P4_RB11_01_439.mzXML Peak area  13541_P4_RG3_01_506.mzXML Peak area  \\\n",
       "0                          1.426946e+06                         1.405056e+06   \n",
       "1                          9.049359e+05                         8.638445e+05   \n",
       "2                          8.693485e+05                         8.253388e+05   \n",
       "3                          4.446552e+06                         4.146208e+06   \n",
       "4                          4.051221e+06                         3.776598e+06   \n",
       "\n",
       "      ...       16501_P2_RD9_01_210.mzXML Peak area  \\\n",
       "0     ...                              1.239958e+06   \n",
       "1     ...                              7.974609e+05   \n",
       "2     ...                              6.907975e+05   \n",
       "3     ...                              1.864347e+06   \n",
       "4     ...                              2.684875e+06   \n",
       "\n",
       "   14880_P3_RA3_01_290.mzXML Peak area  15581_P2_RD4_01_203.mzXML Peak area  \\\n",
       "0                          1384508.972                         1.321642e+06   \n",
       "1                           859813.054                         8.211478e+05   \n",
       "2                           755029.159                         7.258752e+05   \n",
       "3                          3200536.931                         2.686900e+06   \n",
       "4                          2989385.944                         2.762750e+06   \n",
       "\n",
       "   29342_P5_RF3_01_620.mzXML Peak area  15623_P2_RC3_01_187.mzXML Peak area  \\\n",
       "0                         1.342898e+06                         1.428610e+06   \n",
       "1                         7.643052e+05                         8.594064e+05   \n",
       "2                         7.271235e+05                         8.049578e+05   \n",
       "3                         2.419854e+06                         2.592536e+06   \n",
       "4                         2.746261e+06                         2.481040e+06   \n",
       "\n",
       "   12262_P1_RE5_01_94.mzXML Peak area  27373_P2_RD5_01_204.mzXML Peak area  \\\n",
       "0                              0.0000                         1.309347e+06   \n",
       "1                         319453.1235                         8.126216e+05   \n",
       "2                              0.0000                         7.299963e+05   \n",
       "3                          28303.9595                         2.038651e+06   \n",
       "4                         100953.5900                         2.617118e+06   \n",
       "\n",
       "   31878_P1_RH3_01_131.mzXML Peak area  14563_P1_RE10_01_99.mzXML Peak area  \\\n",
       "0                               0.0000                               0.0000   \n",
       "1                          321342.3140                          343921.0690   \n",
       "2                              38.4895                               0.0000   \n",
       "3                           83238.3495                           83362.9450   \n",
       "4                          430218.5365                          368020.7355   \n",
       "\n",
       "   Unnamed: 26  \n",
       "0          NaN  \n",
       "1          NaN  \n",
       "2          NaN  \n",
       "3          NaN  \n",
       "4          NaN  \n",
       "\n",
       "[5 rows x 27 columns]"
      ]
     },
     "execution_count": 3,
     "metadata": {},
     "output_type": "execute_result"
    }
   ],
   "source": [
    "ft.head()"
   ]
  },
  {
   "cell_type": "markdown",
   "metadata": {},
   "source": [
    "load example metadata and rename filename column to '#SampleID'"
   ]
  },
  {
   "cell_type": "code",
   "execution_count": 4,
   "metadata": {},
   "outputs": [],
   "source": [
    "md = pd.read_csv('ftp://massive.ucsd.edu/MSV000082678/other/metadata_GNPS_table_AMG_key_ones_cleaned.txt', sep = '\\t')"
   ]
  },
  {
   "cell_type": "code",
   "execution_count": 5,
   "metadata": {},
   "outputs": [],
   "source": [
    "md = md.rename(columns = {'filename':'#SampleID'})"
   ]
  },
  {
   "cell_type": "code",
   "execution_count": 6,
   "metadata": {},
   "outputs": [
    {
     "data": {
      "text/html": [
       "<div>\n",
       "<style scoped>\n",
       "    .dataframe tbody tr th:only-of-type {\n",
       "        vertical-align: middle;\n",
       "    }\n",
       "\n",
       "    .dataframe tbody tr th {\n",
       "        vertical-align: top;\n",
       "    }\n",
       "\n",
       "    .dataframe thead th {\n",
       "        text-align: right;\n",
       "    }\n",
       "</style>\n",
       "<table border=\"1\" class=\"dataframe\">\n",
       "  <thead>\n",
       "    <tr style=\"text-align: right;\">\n",
       "      <th></th>\n",
       "      <th>#SampleID</th>\n",
       "      <th>ATTRIBUTE_SampleType</th>\n",
       "      <th>ATTRIBUTE_TypesOfPlants</th>\n",
       "      <th>ATTRIBUTE_ExerciceFrequency</th>\n",
       "      <th>ATTRIBUTE_FermentedPlantFrequency</th>\n",
       "      <th>ATTRIBUTE_Probiotic_frequence</th>\n",
       "    </tr>\n",
       "  </thead>\n",
       "  <tbody>\n",
       "    <tr>\n",
       "      <th>0</th>\n",
       "      <td>10125_P1_RA12_01_49.mzXML</td>\n",
       "      <td>SAMPLE</td>\n",
       "      <td>21_to_30</td>\n",
       "      <td>Regularly</td>\n",
       "      <td>NaN</td>\n",
       "      <td>NaN</td>\n",
       "    </tr>\n",
       "    <tr>\n",
       "      <th>1</th>\n",
       "      <td>10173_P4_RC5_01_447.mzXML</td>\n",
       "      <td>SAMPLE</td>\n",
       "      <td>11_to_20</td>\n",
       "      <td>Occasionally</td>\n",
       "      <td>Daily</td>\n",
       "      <td>Occasionally</td>\n",
       "    </tr>\n",
       "    <tr>\n",
       "      <th>2</th>\n",
       "      <td>10232_P4_RE4_01_476.mzXML</td>\n",
       "      <td>SAMPLE</td>\n",
       "      <td>Less_than_5</td>\n",
       "      <td>Occasionally</td>\n",
       "      <td>NaN</td>\n",
       "      <td>NaN</td>\n",
       "    </tr>\n",
       "    <tr>\n",
       "      <th>3</th>\n",
       "      <td>10546_P4_RG11_01_515.mzXML</td>\n",
       "      <td>SAMPLE</td>\n",
       "      <td>Less_than_5</td>\n",
       "      <td>Regularly</td>\n",
       "      <td>NaN</td>\n",
       "      <td>NaN</td>\n",
       "    </tr>\n",
       "    <tr>\n",
       "      <th>4</th>\n",
       "      <td>10710_P3_RB12_01_317.mzXML</td>\n",
       "      <td>SAMPLE</td>\n",
       "      <td>11_to_20</td>\n",
       "      <td>Regularly</td>\n",
       "      <td>NaN</td>\n",
       "      <td>NaN</td>\n",
       "    </tr>\n",
       "  </tbody>\n",
       "</table>\n",
       "</div>"
      ],
      "text/plain": [
       "                    #SampleID ATTRIBUTE_SampleType ATTRIBUTE_TypesOfPlants  \\\n",
       "0   10125_P1_RA12_01_49.mzXML               SAMPLE                21_to_30   \n",
       "1   10173_P4_RC5_01_447.mzXML               SAMPLE                11_to_20   \n",
       "2   10232_P4_RE4_01_476.mzXML               SAMPLE             Less_than_5   \n",
       "3  10546_P4_RG11_01_515.mzXML               SAMPLE             Less_than_5   \n",
       "4  10710_P3_RB12_01_317.mzXML               SAMPLE                11_to_20   \n",
       "\n",
       "  ATTRIBUTE_ExerciceFrequency ATTRIBUTE_FermentedPlantFrequency  \\\n",
       "0                   Regularly                               NaN   \n",
       "1                Occasionally                             Daily   \n",
       "2                Occasionally                               NaN   \n",
       "3                   Regularly                               NaN   \n",
       "4                   Regularly                               NaN   \n",
       "\n",
       "  ATTRIBUTE_Probiotic_frequence  \n",
       "0                           NaN  \n",
       "1                  Occasionally  \n",
       "2                           NaN  \n",
       "3                           NaN  \n",
       "4                           NaN  "
      ]
     },
     "execution_count": 6,
     "metadata": {},
     "output_type": "execute_result"
    }
   ],
   "source": [
    "md.head()"
   ]
  },
  {
   "cell_type": "markdown",
   "metadata": {},
   "source": [
    "rename column names in feature table to match filenames in metadata"
   ]
  },
  {
   "cell_type": "code",
   "execution_count": 7,
   "metadata": {},
   "outputs": [],
   "source": [
    "ft.columns = ft.columns.str.replace(' Peak area','')"
   ]
  },
  {
   "cell_type": "code",
   "execution_count": 8,
   "metadata": {},
   "outputs": [
    {
     "data": {
      "text/html": [
       "<div>\n",
       "<style scoped>\n",
       "    .dataframe tbody tr th:only-of-type {\n",
       "        vertical-align: middle;\n",
       "    }\n",
       "\n",
       "    .dataframe tbody tr th {\n",
       "        vertical-align: top;\n",
       "    }\n",
       "\n",
       "    .dataframe thead th {\n",
       "        text-align: right;\n",
       "    }\n",
       "</style>\n",
       "<table border=\"1\" class=\"dataframe\">\n",
       "  <thead>\n",
       "    <tr style=\"text-align: right;\">\n",
       "      <th></th>\n",
       "      <th>row ID</th>\n",
       "      <th>row m/z</th>\n",
       "      <th>row retention time</th>\n",
       "      <th>row number of detected peaks</th>\n",
       "      <th>10232_P4_RE4_01_476.mzXML</th>\n",
       "      <th>10765_P4_RE9_01_482.mzXML</th>\n",
       "      <th>10546_P4_RG11_01_515.mzXML</th>\n",
       "      <th>11035_P4_RB4_01_431.mzXML</th>\n",
       "      <th>11163_P4_RB11_01_439.mzXML</th>\n",
       "      <th>13541_P4_RG3_01_506.mzXML</th>\n",
       "      <th>...</th>\n",
       "      <th>16501_P2_RD9_01_210.mzXML</th>\n",
       "      <th>14880_P3_RA3_01_290.mzXML</th>\n",
       "      <th>15581_P2_RD4_01_203.mzXML</th>\n",
       "      <th>29342_P5_RF3_01_620.mzXML</th>\n",
       "      <th>15623_P2_RC3_01_187.mzXML</th>\n",
       "      <th>12262_P1_RE5_01_94.mzXML</th>\n",
       "      <th>27373_P2_RD5_01_204.mzXML</th>\n",
       "      <th>31878_P1_RH3_01_131.mzXML</th>\n",
       "      <th>14563_P1_RE10_01_99.mzXML</th>\n",
       "      <th>Unnamed: 26</th>\n",
       "    </tr>\n",
       "  </thead>\n",
       "  <tbody>\n",
       "    <tr>\n",
       "      <th>0</th>\n",
       "      <td>1</td>\n",
       "      <td>108.517902</td>\n",
       "      <td>10.245050</td>\n",
       "      <td>19</td>\n",
       "      <td>1.389687e+06</td>\n",
       "      <td>1.401753e+06</td>\n",
       "      <td>1.402785e+06</td>\n",
       "      <td>1.655499e+06</td>\n",
       "      <td>1.426946e+06</td>\n",
       "      <td>1.405056e+06</td>\n",
       "      <td>...</td>\n",
       "      <td>1.239958e+06</td>\n",
       "      <td>1384508.972</td>\n",
       "      <td>1.321642e+06</td>\n",
       "      <td>1.342898e+06</td>\n",
       "      <td>1.428610e+06</td>\n",
       "      <td>0.0000</td>\n",
       "      <td>1.309347e+06</td>\n",
       "      <td>0.0000</td>\n",
       "      <td>0.0000</td>\n",
       "      <td>NaN</td>\n",
       "    </tr>\n",
       "    <tr>\n",
       "      <th>1</th>\n",
       "      <td>2</td>\n",
       "      <td>184.985602</td>\n",
       "      <td>10.245289</td>\n",
       "      <td>22</td>\n",
       "      <td>8.248547e+05</td>\n",
       "      <td>8.793291e+05</td>\n",
       "      <td>8.107117e+05</td>\n",
       "      <td>9.185384e+05</td>\n",
       "      <td>9.049359e+05</td>\n",
       "      <td>8.638445e+05</td>\n",
       "      <td>...</td>\n",
       "      <td>7.974609e+05</td>\n",
       "      <td>859813.054</td>\n",
       "      <td>8.211478e+05</td>\n",
       "      <td>7.643052e+05</td>\n",
       "      <td>8.594064e+05</td>\n",
       "      <td>319453.1235</td>\n",
       "      <td>8.126216e+05</td>\n",
       "      <td>321342.3140</td>\n",
       "      <td>343921.0690</td>\n",
       "      <td>NaN</td>\n",
       "    </tr>\n",
       "    <tr>\n",
       "      <th>2</th>\n",
       "      <td>3</td>\n",
       "      <td>99.513035</td>\n",
       "      <td>10.244318</td>\n",
       "      <td>19</td>\n",
       "      <td>7.799635e+05</td>\n",
       "      <td>8.090166e+05</td>\n",
       "      <td>7.848383e+05</td>\n",
       "      <td>9.183559e+05</td>\n",
       "      <td>8.693485e+05</td>\n",
       "      <td>8.253388e+05</td>\n",
       "      <td>...</td>\n",
       "      <td>6.907975e+05</td>\n",
       "      <td>755029.159</td>\n",
       "      <td>7.258752e+05</td>\n",
       "      <td>7.271235e+05</td>\n",
       "      <td>8.049578e+05</td>\n",
       "      <td>0.0000</td>\n",
       "      <td>7.299963e+05</td>\n",
       "      <td>38.4895</td>\n",
       "      <td>0.0000</td>\n",
       "      <td>NaN</td>\n",
       "    </tr>\n",
       "    <tr>\n",
       "      <th>3</th>\n",
       "      <td>4</td>\n",
       "      <td>176.971991</td>\n",
       "      <td>10.456467</td>\n",
       "      <td>15</td>\n",
       "      <td>3.371037e+06</td>\n",
       "      <td>3.594239e+06</td>\n",
       "      <td>3.335428e+06</td>\n",
       "      <td>4.762133e+06</td>\n",
       "      <td>4.446552e+06</td>\n",
       "      <td>4.146208e+06</td>\n",
       "      <td>...</td>\n",
       "      <td>1.864347e+06</td>\n",
       "      <td>3200536.931</td>\n",
       "      <td>2.686900e+06</td>\n",
       "      <td>2.419854e+06</td>\n",
       "      <td>2.592536e+06</td>\n",
       "      <td>28303.9595</td>\n",
       "      <td>2.038651e+06</td>\n",
       "      <td>83238.3495</td>\n",
       "      <td>83362.9450</td>\n",
       "      <td>NaN</td>\n",
       "    </tr>\n",
       "    <tr>\n",
       "      <th>4</th>\n",
       "      <td>6</td>\n",
       "      <td>186.956412</td>\n",
       "      <td>10.470755</td>\n",
       "      <td>15</td>\n",
       "      <td>3.649388e+06</td>\n",
       "      <td>2.918580e+06</td>\n",
       "      <td>3.566568e+06</td>\n",
       "      <td>3.498500e+06</td>\n",
       "      <td>4.051221e+06</td>\n",
       "      <td>3.776598e+06</td>\n",
       "      <td>...</td>\n",
       "      <td>2.684875e+06</td>\n",
       "      <td>2989385.944</td>\n",
       "      <td>2.762750e+06</td>\n",
       "      <td>2.746261e+06</td>\n",
       "      <td>2.481040e+06</td>\n",
       "      <td>100953.5900</td>\n",
       "      <td>2.617118e+06</td>\n",
       "      <td>430218.5365</td>\n",
       "      <td>368020.7355</td>\n",
       "      <td>NaN</td>\n",
       "    </tr>\n",
       "  </tbody>\n",
       "</table>\n",
       "<p>5 rows × 27 columns</p>\n",
       "</div>"
      ],
      "text/plain": [
       "   row ID     row m/z  row retention time  row number of detected peaks  \\\n",
       "0       1  108.517902           10.245050                            19   \n",
       "1       2  184.985602           10.245289                            22   \n",
       "2       3   99.513035           10.244318                            19   \n",
       "3       4  176.971991           10.456467                            15   \n",
       "4       6  186.956412           10.470755                            15   \n",
       "\n",
       "   10232_P4_RE4_01_476.mzXML  10765_P4_RE9_01_482.mzXML  \\\n",
       "0               1.389687e+06               1.401753e+06   \n",
       "1               8.248547e+05               8.793291e+05   \n",
       "2               7.799635e+05               8.090166e+05   \n",
       "3               3.371037e+06               3.594239e+06   \n",
       "4               3.649388e+06               2.918580e+06   \n",
       "\n",
       "   10546_P4_RG11_01_515.mzXML  11035_P4_RB4_01_431.mzXML  \\\n",
       "0                1.402785e+06               1.655499e+06   \n",
       "1                8.107117e+05               9.185384e+05   \n",
       "2                7.848383e+05               9.183559e+05   \n",
       "3                3.335428e+06               4.762133e+06   \n",
       "4                3.566568e+06               3.498500e+06   \n",
       "\n",
       "   11163_P4_RB11_01_439.mzXML  13541_P4_RG3_01_506.mzXML     ...       \\\n",
       "0                1.426946e+06               1.405056e+06     ...        \n",
       "1                9.049359e+05               8.638445e+05     ...        \n",
       "2                8.693485e+05               8.253388e+05     ...        \n",
       "3                4.446552e+06               4.146208e+06     ...        \n",
       "4                4.051221e+06               3.776598e+06     ...        \n",
       "\n",
       "   16501_P2_RD9_01_210.mzXML  14880_P3_RA3_01_290.mzXML  \\\n",
       "0               1.239958e+06                1384508.972   \n",
       "1               7.974609e+05                 859813.054   \n",
       "2               6.907975e+05                 755029.159   \n",
       "3               1.864347e+06                3200536.931   \n",
       "4               2.684875e+06                2989385.944   \n",
       "\n",
       "   15581_P2_RD4_01_203.mzXML  29342_P5_RF3_01_620.mzXML  \\\n",
       "0               1.321642e+06               1.342898e+06   \n",
       "1               8.211478e+05               7.643052e+05   \n",
       "2               7.258752e+05               7.271235e+05   \n",
       "3               2.686900e+06               2.419854e+06   \n",
       "4               2.762750e+06               2.746261e+06   \n",
       "\n",
       "   15623_P2_RC3_01_187.mzXML  12262_P1_RE5_01_94.mzXML  \\\n",
       "0               1.428610e+06                    0.0000   \n",
       "1               8.594064e+05               319453.1235   \n",
       "2               8.049578e+05                    0.0000   \n",
       "3               2.592536e+06                28303.9595   \n",
       "4               2.481040e+06               100953.5900   \n",
       "\n",
       "   27373_P2_RD5_01_204.mzXML  31878_P1_RH3_01_131.mzXML  \\\n",
       "0               1.309347e+06                     0.0000   \n",
       "1               8.126216e+05                321342.3140   \n",
       "2               7.299963e+05                    38.4895   \n",
       "3               2.038651e+06                 83238.3495   \n",
       "4               2.617118e+06                430218.5365   \n",
       "\n",
       "   14563_P1_RE10_01_99.mzXML  Unnamed: 26  \n",
       "0                     0.0000          NaN  \n",
       "1                343921.0690          NaN  \n",
       "2                     0.0000          NaN  \n",
       "3                 83362.9450          NaN  \n",
       "4                368020.7355          NaN  \n",
       "\n",
       "[5 rows x 27 columns]"
      ]
     },
     "execution_count": 8,
     "metadata": {},
     "output_type": "execute_result"
    }
   ],
   "source": [
    "ft.head()"
   ]
  },
  {
   "cell_type": "markdown",
   "metadata": {},
   "source": [
    "are there any samples missing in the metadata?"
   ]
  },
  {
   "cell_type": "code",
   "execution_count": 9,
   "metadata": {},
   "outputs": [
    {
     "data": {
      "text/plain": [
       "{'Unnamed: 26',\n",
       " 'row ID',\n",
       " 'row m/z',\n",
       " 'row number of detected peaks',\n",
       " 'row retention time'}"
      ]
     },
     "execution_count": 9,
     "metadata": {},
     "output_type": "execute_result"
    }
   ],
   "source": [
    "set(ft.columns) - set(md['#SampleID']) "
   ]
  },
  {
   "cell_type": "markdown",
   "metadata": {},
   "source": [
    "remove all columns in feature table, which do not match metadata"
   ]
  },
  {
   "cell_type": "code",
   "execution_count": 10,
   "metadata": {},
   "outputs": [],
   "source": [
    "ft = ft.drop(['Unnamed: 26', 'row m/z','row number of detected peaks','row retention time'], axis=1)"
   ]
  },
  {
   "cell_type": "code",
   "execution_count": 11,
   "metadata": {},
   "outputs": [
    {
     "data": {
      "text/html": [
       "<div>\n",
       "<style scoped>\n",
       "    .dataframe tbody tr th:only-of-type {\n",
       "        vertical-align: middle;\n",
       "    }\n",
       "\n",
       "    .dataframe tbody tr th {\n",
       "        vertical-align: top;\n",
       "    }\n",
       "\n",
       "    .dataframe thead th {\n",
       "        text-align: right;\n",
       "    }\n",
       "</style>\n",
       "<table border=\"1\" class=\"dataframe\">\n",
       "  <thead>\n",
       "    <tr style=\"text-align: right;\">\n",
       "      <th></th>\n",
       "      <th>row ID</th>\n",
       "      <th>10232_P4_RE4_01_476.mzXML</th>\n",
       "      <th>10765_P4_RE9_01_482.mzXML</th>\n",
       "      <th>10546_P4_RG11_01_515.mzXML</th>\n",
       "      <th>11035_P4_RB4_01_431.mzXML</th>\n",
       "      <th>11163_P4_RB11_01_439.mzXML</th>\n",
       "      <th>13541_P4_RG3_01_506.mzXML</th>\n",
       "      <th>10712_P4_RH3_01_521.mzXML</th>\n",
       "      <th>10715_P4_RA4_01_415.mzXML</th>\n",
       "      <th>11111_P4_RB1_01_428.mzXML</th>\n",
       "      <th>...</th>\n",
       "      <th>13917_P4_RA10_01_423.mzXML</th>\n",
       "      <th>16501_P2_RD9_01_210.mzXML</th>\n",
       "      <th>14880_P3_RA3_01_290.mzXML</th>\n",
       "      <th>15581_P2_RD4_01_203.mzXML</th>\n",
       "      <th>29342_P5_RF3_01_620.mzXML</th>\n",
       "      <th>15623_P2_RC3_01_187.mzXML</th>\n",
       "      <th>12262_P1_RE5_01_94.mzXML</th>\n",
       "      <th>27373_P2_RD5_01_204.mzXML</th>\n",
       "      <th>31878_P1_RH3_01_131.mzXML</th>\n",
       "      <th>14563_P1_RE10_01_99.mzXML</th>\n",
       "    </tr>\n",
       "  </thead>\n",
       "  <tbody>\n",
       "    <tr>\n",
       "      <th>0</th>\n",
       "      <td>1</td>\n",
       "      <td>1.389687e+06</td>\n",
       "      <td>1.401753e+06</td>\n",
       "      <td>1.402785e+06</td>\n",
       "      <td>1.655499e+06</td>\n",
       "      <td>1.426946e+06</td>\n",
       "      <td>1.405056e+06</td>\n",
       "      <td>1.301425e+06</td>\n",
       "      <td>1.662175e+06</td>\n",
       "      <td>1.669774e+06</td>\n",
       "      <td>...</td>\n",
       "      <td>1.790633e+06</td>\n",
       "      <td>1.239958e+06</td>\n",
       "      <td>1384508.972</td>\n",
       "      <td>1.321642e+06</td>\n",
       "      <td>1.342898e+06</td>\n",
       "      <td>1.428610e+06</td>\n",
       "      <td>0.0000</td>\n",
       "      <td>1.309347e+06</td>\n",
       "      <td>0.0000</td>\n",
       "      <td>0.0000</td>\n",
       "    </tr>\n",
       "    <tr>\n",
       "      <th>1</th>\n",
       "      <td>2</td>\n",
       "      <td>8.248547e+05</td>\n",
       "      <td>8.793291e+05</td>\n",
       "      <td>8.107117e+05</td>\n",
       "      <td>9.185384e+05</td>\n",
       "      <td>9.049359e+05</td>\n",
       "      <td>8.638445e+05</td>\n",
       "      <td>8.139364e+05</td>\n",
       "      <td>9.591576e+05</td>\n",
       "      <td>9.755214e+05</td>\n",
       "      <td>...</td>\n",
       "      <td>9.990665e+05</td>\n",
       "      <td>7.974609e+05</td>\n",
       "      <td>859813.054</td>\n",
       "      <td>8.211478e+05</td>\n",
       "      <td>7.643052e+05</td>\n",
       "      <td>8.594064e+05</td>\n",
       "      <td>319453.1235</td>\n",
       "      <td>8.126216e+05</td>\n",
       "      <td>321342.3140</td>\n",
       "      <td>343921.0690</td>\n",
       "    </tr>\n",
       "    <tr>\n",
       "      <th>2</th>\n",
       "      <td>3</td>\n",
       "      <td>7.799635e+05</td>\n",
       "      <td>8.090166e+05</td>\n",
       "      <td>7.848383e+05</td>\n",
       "      <td>9.183559e+05</td>\n",
       "      <td>8.693485e+05</td>\n",
       "      <td>8.253388e+05</td>\n",
       "      <td>7.579065e+05</td>\n",
       "      <td>8.902871e+05</td>\n",
       "      <td>9.459781e+05</td>\n",
       "      <td>...</td>\n",
       "      <td>9.952293e+05</td>\n",
       "      <td>6.907975e+05</td>\n",
       "      <td>755029.159</td>\n",
       "      <td>7.258752e+05</td>\n",
       "      <td>7.271235e+05</td>\n",
       "      <td>8.049578e+05</td>\n",
       "      <td>0.0000</td>\n",
       "      <td>7.299963e+05</td>\n",
       "      <td>38.4895</td>\n",
       "      <td>0.0000</td>\n",
       "    </tr>\n",
       "    <tr>\n",
       "      <th>3</th>\n",
       "      <td>4</td>\n",
       "      <td>3.371037e+06</td>\n",
       "      <td>3.594239e+06</td>\n",
       "      <td>3.335428e+06</td>\n",
       "      <td>4.762133e+06</td>\n",
       "      <td>4.446552e+06</td>\n",
       "      <td>4.146208e+06</td>\n",
       "      <td>3.450606e+06</td>\n",
       "      <td>4.270036e+06</td>\n",
       "      <td>4.082636e+06</td>\n",
       "      <td>...</td>\n",
       "      <td>5.118346e+06</td>\n",
       "      <td>1.864347e+06</td>\n",
       "      <td>3200536.931</td>\n",
       "      <td>2.686900e+06</td>\n",
       "      <td>2.419854e+06</td>\n",
       "      <td>2.592536e+06</td>\n",
       "      <td>28303.9595</td>\n",
       "      <td>2.038651e+06</td>\n",
       "      <td>83238.3495</td>\n",
       "      <td>83362.9450</td>\n",
       "    </tr>\n",
       "    <tr>\n",
       "      <th>4</th>\n",
       "      <td>6</td>\n",
       "      <td>3.649388e+06</td>\n",
       "      <td>2.918580e+06</td>\n",
       "      <td>3.566568e+06</td>\n",
       "      <td>3.498500e+06</td>\n",
       "      <td>4.051221e+06</td>\n",
       "      <td>3.776598e+06</td>\n",
       "      <td>3.112945e+06</td>\n",
       "      <td>4.300304e+06</td>\n",
       "      <td>3.604042e+06</td>\n",
       "      <td>...</td>\n",
       "      <td>4.608083e+06</td>\n",
       "      <td>2.684875e+06</td>\n",
       "      <td>2989385.944</td>\n",
       "      <td>2.762750e+06</td>\n",
       "      <td>2.746261e+06</td>\n",
       "      <td>2.481040e+06</td>\n",
       "      <td>100953.5900</td>\n",
       "      <td>2.617118e+06</td>\n",
       "      <td>430218.5365</td>\n",
       "      <td>368020.7355</td>\n",
       "    </tr>\n",
       "  </tbody>\n",
       "</table>\n",
       "<p>5 rows × 23 columns</p>\n",
       "</div>"
      ],
      "text/plain": [
       "   row ID  10232_P4_RE4_01_476.mzXML  10765_P4_RE9_01_482.mzXML  \\\n",
       "0       1               1.389687e+06               1.401753e+06   \n",
       "1       2               8.248547e+05               8.793291e+05   \n",
       "2       3               7.799635e+05               8.090166e+05   \n",
       "3       4               3.371037e+06               3.594239e+06   \n",
       "4       6               3.649388e+06               2.918580e+06   \n",
       "\n",
       "   10546_P4_RG11_01_515.mzXML  11035_P4_RB4_01_431.mzXML  \\\n",
       "0                1.402785e+06               1.655499e+06   \n",
       "1                8.107117e+05               9.185384e+05   \n",
       "2                7.848383e+05               9.183559e+05   \n",
       "3                3.335428e+06               4.762133e+06   \n",
       "4                3.566568e+06               3.498500e+06   \n",
       "\n",
       "   11163_P4_RB11_01_439.mzXML  13541_P4_RG3_01_506.mzXML  \\\n",
       "0                1.426946e+06               1.405056e+06   \n",
       "1                9.049359e+05               8.638445e+05   \n",
       "2                8.693485e+05               8.253388e+05   \n",
       "3                4.446552e+06               4.146208e+06   \n",
       "4                4.051221e+06               3.776598e+06   \n",
       "\n",
       "   10712_P4_RH3_01_521.mzXML  10715_P4_RA4_01_415.mzXML  \\\n",
       "0               1.301425e+06               1.662175e+06   \n",
       "1               8.139364e+05               9.591576e+05   \n",
       "2               7.579065e+05               8.902871e+05   \n",
       "3               3.450606e+06               4.270036e+06   \n",
       "4               3.112945e+06               4.300304e+06   \n",
       "\n",
       "   11111_P4_RB1_01_428.mzXML            ...              \\\n",
       "0               1.669774e+06            ...               \n",
       "1               9.755214e+05            ...               \n",
       "2               9.459781e+05            ...               \n",
       "3               4.082636e+06            ...               \n",
       "4               3.604042e+06            ...               \n",
       "\n",
       "   13917_P4_RA10_01_423.mzXML  16501_P2_RD9_01_210.mzXML  \\\n",
       "0                1.790633e+06               1.239958e+06   \n",
       "1                9.990665e+05               7.974609e+05   \n",
       "2                9.952293e+05               6.907975e+05   \n",
       "3                5.118346e+06               1.864347e+06   \n",
       "4                4.608083e+06               2.684875e+06   \n",
       "\n",
       "   14880_P3_RA3_01_290.mzXML  15581_P2_RD4_01_203.mzXML  \\\n",
       "0                1384508.972               1.321642e+06   \n",
       "1                 859813.054               8.211478e+05   \n",
       "2                 755029.159               7.258752e+05   \n",
       "3                3200536.931               2.686900e+06   \n",
       "4                2989385.944               2.762750e+06   \n",
       "\n",
       "   29342_P5_RF3_01_620.mzXML  15623_P2_RC3_01_187.mzXML  \\\n",
       "0               1.342898e+06               1.428610e+06   \n",
       "1               7.643052e+05               8.594064e+05   \n",
       "2               7.271235e+05               8.049578e+05   \n",
       "3               2.419854e+06               2.592536e+06   \n",
       "4               2.746261e+06               2.481040e+06   \n",
       "\n",
       "   12262_P1_RE5_01_94.mzXML  27373_P2_RD5_01_204.mzXML  \\\n",
       "0                    0.0000               1.309347e+06   \n",
       "1               319453.1235               8.126216e+05   \n",
       "2                    0.0000               7.299963e+05   \n",
       "3                28303.9595               2.038651e+06   \n",
       "4               100953.5900               2.617118e+06   \n",
       "\n",
       "   31878_P1_RH3_01_131.mzXML  14563_P1_RE10_01_99.mzXML  \n",
       "0                     0.0000                     0.0000  \n",
       "1                321342.3140                343921.0690  \n",
       "2                    38.4895                     0.0000  \n",
       "3                 83238.3495                 83362.9450  \n",
       "4                430218.5365                368020.7355  \n",
       "\n",
       "[5 rows x 23 columns]"
      ]
     },
     "execution_count": 11,
     "metadata": {},
     "output_type": "execute_result"
    }
   ],
   "source": [
    "ft.head()"
   ]
  },
  {
   "cell_type": "markdown",
   "metadata": {},
   "source": [
    "write formatted feature and metadata table to file"
   ]
  },
  {
   "cell_type": "code",
   "execution_count": 12,
   "metadata": {},
   "outputs": [],
   "source": [
    "ft.to_csv(\"FeatureTable_ExampleAGP.tsv\",sep='\\t',index=False)"
   ]
  },
  {
   "cell_type": "code",
   "execution_count": 13,
   "metadata": {},
   "outputs": [],
   "source": [
    "md.to_csv(\"MetaData_ExampleAGP.tsv\",sep='\\t',index=False)"
   ]
  },
  {
   "cell_type": "markdown",
   "metadata": {},
   "source": [
    "convert feature table to the Qiime2 .qza format"
   ]
  },
  {
   "cell_type": "code",
   "execution_count": 14,
   "metadata": {},
   "outputs": [
    {
     "name": "stdout",
     "output_type": "stream",
     "text": [
      "\u001b[32mImported FeatureTable_ExampleAGP.biom as BIOMV210DirFmt to FeatureTable_ExampleAGP.qza\u001b[0m\r\n"
     ]
    }
   ],
   "source": [
    "! biom convert -i FeatureTable_ExampleAGP.tsv -o FeatureTable_ExampleAGP.biom --table-type=\"OTU table\" --to-hdf5\n",
    "! qiime tools import --type 'FeatureTable[Frequency]' --input-path FeatureTable_ExampleAGP.biom --output-path FeatureTable_ExampleAGP.qza"
   ]
  },
  {
   "cell_type": "markdown",
   "metadata": {},
   "source": [
    "#### Calculate Bray-Curtis distances and visualize PCoA in Emperor"
   ]
  },
  {
   "cell_type": "code",
   "execution_count": 15,
   "metadata": {},
   "outputs": [
    {
     "name": "stdout",
     "output_type": "stream",
     "text": [
      "\u001b[32mSaved DistanceMatrix to: bray_distance_matrix.qza\u001b[0m\n",
      "\u001b[32mSaved PCoAResults to: bray_distance_matrix_PcoA.qza\u001b[0m\n",
      "\u001b[32mSaved Visualization to: bray_distance_matrix_PcoA.qzv\u001b[0m\n"
     ]
    }
   ],
   "source": [
    "! qiime diversity beta --i-table FeatureTable_ExampleAGP.qza --p-metric braycurtis --o-distance-matrix bray_distance_matrix.qza\n",
    "! qiime diversity pcoa --i-distance-matrix bray_distance_matrix.qza --o-pcoa bray_distance_matrix_PcoA.qza\n",
    "! qiime emperor plot --i-pcoa bray_distance_matrix_PcoA.qza --m-metadata-file MetaData_ExampleAGP.tsv --o-visualization bray_distance_matrix_PcoA.qzv"
   ]
  },
  {
   "cell_type": "code",
   "execution_count": 16,
   "metadata": {},
   "outputs": [
    {
     "data": {
      "text/html": [
       "<div><img onload=\"(function(div, url){\n",
       "if (typeof require !== 'undefined') {\n",
       "    var baseURL = require.toUrl('').split('/').slice(0, -2).join('/');\n",
       "} else {\n",
       "    var baseURL = JSON.parse(\n",
       "        document.getElementById('jupyter-config-data').innerHTML\n",
       "    ).baseUrl.slice(0, -1);\n",
       "}\n",
       "url = baseURL + url;\n",
       "fetch(url).then(function(res) {\n",
       "    if (res.status === 404) {\n",
       "        div.innerHTML = 'Install QIIME 2 Jupyter extension with:<br />' +\n",
       "                        '<code>jupyter serverextension enable --py qiime2' +\n",
       "                        ' --sys-prefix</code><br />then restart your server.' +\n",
       "                        '<br /><br />(Interactive output not available on ' +\n",
       "                        'static notebook viewer services like nbviewer.)';\n",
       "    } else if (res.status === 409) {\n",
       "        div.innerHTML = 'Visualization no longer in scope. Re-run this cell' +\n",
       "                        ' to see the visualization.';\n",
       "    } else if (res.ok) {\n",
       "        url = res.url;\n",
       "        div.innerHTML = '<iframe src=\\'' + url + '\\' style=\\'' +\n",
       "                        'width: 100%; height: 700px; border: 0;\\'>' +\n",
       "                        '</iframe><hr />Open in a: <a href=\\'' + url + '\\'' +\n",
       "                        ' target=\\'_blank\\'>new window</a>'\n",
       "    } else {\n",
       "        div.innerHTML = 'Something has gone wrong. Check notebook server for' +\n",
       "                        ' errors.';\n",
       "    }\n",
       "});\n",
       "})(this.parentElement, '/qiime2/redirect?location=/var/folders/fh/hzqxnlrs1gg7lmdpsfbknrqc0000gn/T/qiime2-archive-6p8nkj52')\" src=\"data:image/gif;base64,R0lGODlhAQABAIAAAP///wAAACH5BAEAAAAALAAAAAABAAEAAAICRAEAOw==\" /></div>"
      ],
      "text/plain": [
       "<visualization: Visualization uuid: 8c07a228-0091-4663-b5dc-a96a553fa7e4>"
      ]
     },
     "execution_count": 16,
     "metadata": {},
     "output_type": "execute_result"
    }
   ],
   "source": [
    "q2.Visualization.load('bray_distance_matrix_PcoA.qzv')"
   ]
  },
  {
   "cell_type": "markdown",
   "metadata": {},
   "source": [
    "#### Calculate Canberra distances and visualize PCoA in Emperor"
   ]
  },
  {
   "cell_type": "code",
   "execution_count": 17,
   "metadata": {},
   "outputs": [
    {
     "name": "stdout",
     "output_type": "stream",
     "text": [
      "\u001b[32mSaved DistanceMatrix to: canberra_distance_matrix.qza\u001b[0m\n",
      "\u001b[32mSaved PCoAResults to: canberra_distance_matrix_PcoA.qza\u001b[0m\n",
      "\u001b[32mSaved Visualization to: canberra_distance_matrix_PcoA.qzv\u001b[0m\n"
     ]
    }
   ],
   "source": [
    "! qiime diversity beta --i-table FeatureTable_ExampleAGP.qza --p-metric canberra --o-distance-matrix canberra_distance_matrix.qza\n",
    "! qiime diversity pcoa --i-distance-matrix canberra_distance_matrix.qza --o-pcoa canberra_distance_matrix_PcoA.qza\n",
    "! qiime emperor plot --i-pcoa canberra_distance_matrix_PcoA.qza --m-metadata-file MetaData_ExampleAGP.tsv --o-visualization canberra_distance_matrix_PcoA.qzv"
   ]
  },
  {
   "cell_type": "code",
   "execution_count": 18,
   "metadata": {},
   "outputs": [
    {
     "data": {
      "text/html": [
       "<div><img onload=\"(function(div, url){\n",
       "if (typeof require !== 'undefined') {\n",
       "    var baseURL = require.toUrl('').split('/').slice(0, -2).join('/');\n",
       "} else {\n",
       "    var baseURL = JSON.parse(\n",
       "        document.getElementById('jupyter-config-data').innerHTML\n",
       "    ).baseUrl.slice(0, -1);\n",
       "}\n",
       "url = baseURL + url;\n",
       "fetch(url).then(function(res) {\n",
       "    if (res.status === 404) {\n",
       "        div.innerHTML = 'Install QIIME 2 Jupyter extension with:<br />' +\n",
       "                        '<code>jupyter serverextension enable --py qiime2' +\n",
       "                        ' --sys-prefix</code><br />then restart your server.' +\n",
       "                        '<br /><br />(Interactive output not available on ' +\n",
       "                        'static notebook viewer services like nbviewer.)';\n",
       "    } else if (res.status === 409) {\n",
       "        div.innerHTML = 'Visualization no longer in scope. Re-run this cell' +\n",
       "                        ' to see the visualization.';\n",
       "    } else if (res.ok) {\n",
       "        url = res.url;\n",
       "        div.innerHTML = '<iframe src=\\'' + url + '\\' style=\\'' +\n",
       "                        'width: 100%; height: 700px; border: 0;\\'>' +\n",
       "                        '</iframe><hr />Open in a: <a href=\\'' + url + '\\'' +\n",
       "                        ' target=\\'_blank\\'>new window</a>'\n",
       "    } else {\n",
       "        div.innerHTML = 'Something has gone wrong. Check notebook server for' +\n",
       "                        ' errors.';\n",
       "    }\n",
       "});\n",
       "})(this.parentElement, '/qiime2/redirect?location=/var/folders/fh/hzqxnlrs1gg7lmdpsfbknrqc0000gn/T/qiime2-archive-gu0imf4z')\" src=\"data:image/gif;base64,R0lGODlhAQABAIAAAP///wAAACH5BAEAAAAALAAAAAABAAEAAAICRAEAOw==\" /></div>"
      ],
      "text/plain": [
       "<visualization: Visualization uuid: 8516c625-19c6-4d52-96cc-d257184e4ffd>"
      ]
     },
     "execution_count": 18,
     "metadata": {},
     "output_type": "execute_result"
    }
   ],
   "source": [
    "q2.Visualization.load('canberra_distance_matrix_PcoA.qzv')"
   ]
  },
  {
   "cell_type": "markdown",
   "metadata": {},
   "source": [
    "#### Calculate Jaccard distances and visualize PCoA in Emperor"
   ]
  },
  {
   "cell_type": "code",
   "execution_count": 19,
   "metadata": {},
   "outputs": [
    {
     "name": "stdout",
     "output_type": "stream",
     "text": [
      "\u001b[32mSaved DistanceMatrix to: jaccard_distance_matrix.qza\u001b[0m\n",
      "\u001b[32mSaved PCoAResults to: jaccard_distance_matrix_PcoA.qza\u001b[0m\n",
      "\u001b[32mSaved Visualization to: jaccard_distance_matrix_PcoA.qzv\u001b[0m\n"
     ]
    }
   ],
   "source": [
    "! qiime diversity beta --i-table FeatureTable_ExampleAGP.qza --p-metric jaccard --o-distance-matrix jaccard_distance_matrix.qza\n",
    "! qiime diversity pcoa --i-distance-matrix jaccard_distance_matrix.qza --o-pcoa jaccard_distance_matrix_PcoA.qza\n",
    "! qiime emperor plot --i-pcoa jaccard_distance_matrix_PcoA.qza --m-metadata-file MetaData_ExampleAGP.tsv --o-visualization jaccard_distance_matrix_PcoA.qzv"
   ]
  },
  {
   "cell_type": "code",
   "execution_count": 20,
   "metadata": {},
   "outputs": [
    {
     "data": {
      "text/html": [
       "<div><img onload=\"(function(div, url){\n",
       "if (typeof require !== 'undefined') {\n",
       "    var baseURL = require.toUrl('').split('/').slice(0, -2).join('/');\n",
       "} else {\n",
       "    var baseURL = JSON.parse(\n",
       "        document.getElementById('jupyter-config-data').innerHTML\n",
       "    ).baseUrl.slice(0, -1);\n",
       "}\n",
       "url = baseURL + url;\n",
       "fetch(url).then(function(res) {\n",
       "    if (res.status === 404) {\n",
       "        div.innerHTML = 'Install QIIME 2 Jupyter extension with:<br />' +\n",
       "                        '<code>jupyter serverextension enable --py qiime2' +\n",
       "                        ' --sys-prefix</code><br />then restart your server.' +\n",
       "                        '<br /><br />(Interactive output not available on ' +\n",
       "                        'static notebook viewer services like nbviewer.)';\n",
       "    } else if (res.status === 409) {\n",
       "        div.innerHTML = 'Visualization no longer in scope. Re-run this cell' +\n",
       "                        ' to see the visualization.';\n",
       "    } else if (res.ok) {\n",
       "        url = res.url;\n",
       "        div.innerHTML = '<iframe src=\\'' + url + '\\' style=\\'' +\n",
       "                        'width: 100%; height: 700px; border: 0;\\'>' +\n",
       "                        '</iframe><hr />Open in a: <a href=\\'' + url + '\\'' +\n",
       "                        ' target=\\'_blank\\'>new window</a>'\n",
       "    } else {\n",
       "        div.innerHTML = 'Something has gone wrong. Check notebook server for' +\n",
       "                        ' errors.';\n",
       "    }\n",
       "});\n",
       "})(this.parentElement, '/qiime2/redirect?location=/var/folders/fh/hzqxnlrs1gg7lmdpsfbknrqc0000gn/T/qiime2-archive-039s0m0b')\" src=\"data:image/gif;base64,R0lGODlhAQABAIAAAP///wAAACH5BAEAAAAALAAAAAABAAEAAAICRAEAOw==\" /></div>"
      ],
      "text/plain": [
       "<visualization: Visualization uuid: f5b625a6-e201-412b-81da-f978091dd4a4>"
      ]
     },
     "execution_count": 20,
     "metadata": {},
     "output_type": "execute_result"
    }
   ],
   "source": [
    "q2.Visualization.load('jaccard_distance_matrix_PcoA.qzv')"
   ]
  },
  {
   "cell_type": "markdown",
   "metadata": {},
   "source": [
    "#### Calculate [chemical structural and compositional similarity (CSCS)](https://github.com/madeleineernst/q2-cscs) distances and visualize PCoA in Emperor"
   ]
  },
  {
   "cell_type": "markdown",
   "metadata": {},
   "source": [
    "download edges file from GNPS"
   ]
  },
  {
   "cell_type": "code",
   "execution_count": 21,
   "metadata": {},
   "outputs": [
    {
     "name": "stdout",
     "output_type": "stream",
     "text": [
      "  % Total    % Received % Xferd  Average Speed   Time    Time     Time  Current\n",
      "                                 Dload  Upload   Total   Spent    Left  Speed\n",
      "100 2078k    0 2078k    0     0   167k      0 --:--:--  0:00:12 --:--:--  174k\n"
     ]
    }
   ],
   "source": [
    "! curl -d \"\" 'https://gnps.ucsd.edu/ProteoSAFe/DownloadResult?task=b817262cb6114e7295fee4f73b22a3ad&view=download_cytoscape_data' -o GNPS_output_edges.zip"
   ]
  },
  {
   "cell_type": "code",
   "execution_count": 25,
   "metadata": {},
   "outputs": [
    {
     "name": "stdout",
     "output_type": "stream",
     "text": [
      "Archive:  GNPS_output_edges.zip\n",
      "  inflating: GNPS_output_edges/FEATURE-BASED-MOLECULAR-NETWORKING-b817262c-download_cytoscape_data-main.graphml  \n",
      "  inflating: GNPS_output_edges/params.xml  \n",
      "  inflating: GNPS_output_edges/DB_result/199547f600354368817ea480a44d4791.tsv  \n",
      "  inflating: GNPS_output_edges/networking_pairs_results_file_filtered/0aafc490cc974963a5b02dccc4cd27f6.tsv  \n",
      "  inflating: GNPS_output_edges/clusterinfo_summary/864b10ab978e40a68ddb30f358079b00.tsv  \n",
      "  inflating: GNPS_output_edges/gnps_molecular_network_graphml/e359f26d5ed4488eb589126f2fe9abc8.graphml  \n"
     ]
    }
   ],
   "source": [
    "! unzip -d GNPS_output_edges/ GNPS_output_edges.zip"
   ]
  },
  {
   "cell_type": "markdown",
   "metadata": {},
   "source": [
    "calculate cscs"
   ]
  },
  {
   "cell_type": "code",
   "execution_count": 26,
   "metadata": {},
   "outputs": [
    {
     "name": "stdout",
     "output_type": "stream",
     "text": [
      "\u001b[32mSaved DistanceMatrix % Properties(['phylogenetic']) to: cscs_distance_matrix.qza\u001b[0m\r\n"
     ]
    }
   ],
   "source": [
    "! qiime cscs cscs --p-css-edges GNPS_output_edges/networking_pairs_results_file_filtered/0aafc490cc974963a5b02dccc4cd27f6.tsv --i-features FeatureTable_ExampleAGP.qza --p-cosine-threshold 0.7 --p-normalization --o-distance-matrix cscs_distance_matrix.qza "
   ]
  },
  {
   "cell_type": "code",
   "execution_count": 27,
   "metadata": {},
   "outputs": [
    {
     "name": "stdout",
     "output_type": "stream",
     "text": [
      "\u001b[32mSaved PCoAResults to: cscs_distance_matrix_PcoA.qza\u001b[0m\n",
      "\u001b[32mSaved Visualization to: cscs_distance_matrix_PcoA.qzv\u001b[0m\n"
     ]
    }
   ],
   "source": [
    "! qiime diversity pcoa --i-distance-matrix cscs_distance_matrix.qza --o-pcoa cscs_distance_matrix_PcoA.qza\n",
    "! qiime emperor plot --i-pcoa cscs_distance_matrix_PcoA.qza --m-metadata-file MetaData_ExampleAGP.tsv --o-visualization cscs_distance_matrix_PcoA.qzv"
   ]
  },
  {
   "cell_type": "code",
   "execution_count": 28,
   "metadata": {},
   "outputs": [
    {
     "data": {
      "text/html": [
       "<div><img onload=\"(function(div, url){\n",
       "if (typeof require !== 'undefined') {\n",
       "    var baseURL = require.toUrl('').split('/').slice(0, -2).join('/');\n",
       "} else {\n",
       "    var baseURL = JSON.parse(\n",
       "        document.getElementById('jupyter-config-data').innerHTML\n",
       "    ).baseUrl.slice(0, -1);\n",
       "}\n",
       "url = baseURL + url;\n",
       "fetch(url).then(function(res) {\n",
       "    if (res.status === 404) {\n",
       "        div.innerHTML = 'Install QIIME 2 Jupyter extension with:<br />' +\n",
       "                        '<code>jupyter serverextension enable --py qiime2' +\n",
       "                        ' --sys-prefix</code><br />then restart your server.' +\n",
       "                        '<br /><br />(Interactive output not available on ' +\n",
       "                        'static notebook viewer services like nbviewer.)';\n",
       "    } else if (res.status === 409) {\n",
       "        div.innerHTML = 'Visualization no longer in scope. Re-run this cell' +\n",
       "                        ' to see the visualization.';\n",
       "    } else if (res.ok) {\n",
       "        url = res.url;\n",
       "        div.innerHTML = '<iframe src=\\'' + url + '\\' style=\\'' +\n",
       "                        'width: 100%; height: 700px; border: 0;\\'>' +\n",
       "                        '</iframe><hr />Open in a: <a href=\\'' + url + '\\'' +\n",
       "                        ' target=\\'_blank\\'>new window</a>'\n",
       "    } else {\n",
       "        div.innerHTML = 'Something has gone wrong. Check notebook server for' +\n",
       "                        ' errors.';\n",
       "    }\n",
       "});\n",
       "})(this.parentElement, '/qiime2/redirect?location=/var/folders/fh/hzqxnlrs1gg7lmdpsfbknrqc0000gn/T/qiime2-archive-oxo9rzxm')\" src=\"data:image/gif;base64,R0lGODlhAQABAIAAAP///wAAACH5BAEAAAAALAAAAAABAAEAAAICRAEAOw==\" /></div>"
      ],
      "text/plain": [
       "<visualization: Visualization uuid: 29dee37b-5eaf-41a2-8532-116d9fa26d96>"
      ]
     },
     "execution_count": 28,
     "metadata": {},
     "output_type": "execute_result"
    }
   ],
   "source": [
    "q2.Visualization.load('cscs_distance_matrix_PcoA.qzv')"
   ]
  },
  {
   "cell_type": "markdown",
   "metadata": {},
   "source": [
    "## Compare the CSCS and Bray-Curtis distance metric using a Mantel test or Procrustes analysis"
   ]
  },
  {
   "cell_type": "markdown",
   "metadata": {},
   "source": [
    "Mantel test"
   ]
  },
  {
   "cell_type": "code",
   "execution_count": 29,
   "metadata": {},
   "outputs": [
    {
     "name": "stdout",
     "output_type": "stream",
     "text": [
      "\u001b[32mSaved Visualization to: mantel.qzv\u001b[0m\r\n"
     ]
    }
   ],
   "source": [
    "! qiime diversity mantel \\\n",
    "    --i-dm1 cscs_distance_matrix.qza \\\n",
    "    --i-dm2 bray_distance_matrix.qza \\\n",
    "    --o-visualization mantel.qzv"
   ]
  },
  {
   "cell_type": "code",
   "execution_count": 30,
   "metadata": {},
   "outputs": [
    {
     "data": {
      "text/html": [
       "<div><img onload=\"(function(div, url){\n",
       "if (typeof require !== 'undefined') {\n",
       "    var baseURL = require.toUrl('').split('/').slice(0, -2).join('/');\n",
       "} else {\n",
       "    var baseURL = JSON.parse(\n",
       "        document.getElementById('jupyter-config-data').innerHTML\n",
       "    ).baseUrl.slice(0, -1);\n",
       "}\n",
       "url = baseURL + url;\n",
       "fetch(url).then(function(res) {\n",
       "    if (res.status === 404) {\n",
       "        div.innerHTML = 'Install QIIME 2 Jupyter extension with:<br />' +\n",
       "                        '<code>jupyter serverextension enable --py qiime2' +\n",
       "                        ' --sys-prefix</code><br />then restart your server.' +\n",
       "                        '<br /><br />(Interactive output not available on ' +\n",
       "                        'static notebook viewer services like nbviewer.)';\n",
       "    } else if (res.status === 409) {\n",
       "        div.innerHTML = 'Visualization no longer in scope. Re-run this cell' +\n",
       "                        ' to see the visualization.';\n",
       "    } else if (res.ok) {\n",
       "        url = res.url;\n",
       "        div.innerHTML = '<iframe src=\\'' + url + '\\' style=\\'' +\n",
       "                        'width: 100%; height: 700px; border: 0;\\'>' +\n",
       "                        '</iframe><hr />Open in a: <a href=\\'' + url + '\\'' +\n",
       "                        ' target=\\'_blank\\'>new window</a>'\n",
       "    } else {\n",
       "        div.innerHTML = 'Something has gone wrong. Check notebook server for' +\n",
       "                        ' errors.';\n",
       "    }\n",
       "});\n",
       "})(this.parentElement, '/qiime2/redirect?location=/var/folders/fh/hzqxnlrs1gg7lmdpsfbknrqc0000gn/T/qiime2-archive-4owpvuzr')\" src=\"data:image/gif;base64,R0lGODlhAQABAIAAAP///wAAACH5BAEAAAAALAAAAAABAAEAAAICRAEAOw==\" /></div>"
      ],
      "text/plain": [
       "<visualization: Visualization uuid: 61dfe9c6-3901-427f-91e2-25df13bbd0c6>"
      ]
     },
     "execution_count": 30,
     "metadata": {},
     "output_type": "execute_result"
    }
   ],
   "source": [
    "q2.Visualization.load('mantel.qzv')"
   ]
  },
  {
   "cell_type": "markdown",
   "metadata": {},
   "source": [
    "Procrustes"
   ]
  },
  {
   "cell_type": "code",
   "execution_count": 31,
   "metadata": {},
   "outputs": [
    {
     "name": "stdout",
     "output_type": "stream",
     "text": [
      "\u001b[32mSaved PCoAResults to: ./procrustes-out/transformed_reference.qza\u001b[0m\n",
      "\u001b[32mSaved PCoAResults to: ./procrustes-out/transformed_other.qza\u001b[0m\n",
      "\u001b[32mSaved Visualization to: procrustes-out/plot.qzv\u001b[0m\n"
     ]
    }
   ],
   "source": [
    "! qiime diversity procrustes-analysis \\\n",
    "    --i-reference bray_distance_matrix_PCoA.qza \\\n",
    "    --i-other cscs_distance_matrix_PCoA.qza \\\n",
    "    --output-dir ./procrustes-out \n",
    "! qiime emperor procrustes-plot \\\n",
    "    --i-reference-pcoa procrustes-out/transformed_reference.qza \\\n",
    "    --i-other-pcoa procrustes-out/transformed_other.qza \\\n",
    "    --m-metadata-file MetaData_ExampleAGP.tsv \\\n",
    "    --o-visualization procrustes-out/plot.qzv"
   ]
  },
  {
   "cell_type": "code",
   "execution_count": 32,
   "metadata": {},
   "outputs": [
    {
     "data": {
      "text/html": [
       "<div><img onload=\"(function(div, url){\n",
       "if (typeof require !== 'undefined') {\n",
       "    var baseURL = require.toUrl('').split('/').slice(0, -2).join('/');\n",
       "} else {\n",
       "    var baseURL = JSON.parse(\n",
       "        document.getElementById('jupyter-config-data').innerHTML\n",
       "    ).baseUrl.slice(0, -1);\n",
       "}\n",
       "url = baseURL + url;\n",
       "fetch(url).then(function(res) {\n",
       "    if (res.status === 404) {\n",
       "        div.innerHTML = 'Install QIIME 2 Jupyter extension with:<br />' +\n",
       "                        '<code>jupyter serverextension enable --py qiime2' +\n",
       "                        ' --sys-prefix</code><br />then restart your server.' +\n",
       "                        '<br /><br />(Interactive output not available on ' +\n",
       "                        'static notebook viewer services like nbviewer.)';\n",
       "    } else if (res.status === 409) {\n",
       "        div.innerHTML = 'Visualization no longer in scope. Re-run this cell' +\n",
       "                        ' to see the visualization.';\n",
       "    } else if (res.ok) {\n",
       "        url = res.url;\n",
       "        div.innerHTML = '<iframe src=\\'' + url + '\\' style=\\'' +\n",
       "                        'width: 100%; height: 700px; border: 0;\\'>' +\n",
       "                        '</iframe><hr />Open in a: <a href=\\'' + url + '\\'' +\n",
       "                        ' target=\\'_blank\\'>new window</a>'\n",
       "    } else {\n",
       "        div.innerHTML = 'Something has gone wrong. Check notebook server for' +\n",
       "                        ' errors.';\n",
       "    }\n",
       "});\n",
       "})(this.parentElement, '/qiime2/redirect?location=/var/folders/fh/hzqxnlrs1gg7lmdpsfbknrqc0000gn/T/qiime2-archive-sa69krt1')\" src=\"data:image/gif;base64,R0lGODlhAQABAIAAAP///wAAACH5BAEAAAAALAAAAAABAAEAAAICRAEAOw==\" /></div>"
      ],
      "text/plain": [
       "<visualization: Visualization uuid: 44111076-fc4c-437a-adb4-ef06b0cc8f2e>"
      ]
     },
     "execution_count": 32,
     "metadata": {},
     "output_type": "execute_result"
    }
   ],
   "source": [
    "q2.Visualization.load('procrustes-out/plot.qzv')"
   ]
  },
  {
   "cell_type": "markdown",
   "metadata": {},
   "source": [
    "## Test whether groups of samples are significantly different from one another using a Permutational multivariate analysis of variance (PERMANOVA)"
   ]
  },
  {
   "cell_type": "markdown",
   "metadata": {},
   "source": [
    "Are metabolomics profiles of people eating few versus many plants significantly different?"
   ]
  },
  {
   "cell_type": "code",
   "execution_count": 33,
   "metadata": {},
   "outputs": [
    {
     "name": "stdout",
     "output_type": "stream",
     "text": [
      "\u001b[32mSaved Visualization to: PERMANOVA_spectralCounts_TypesOfPlants.qzv\u001b[0m\r\n"
     ]
    }
   ],
   "source": [
    "! qiime diversity beta-group-significance \\\n",
    "    --i-distance-matrix bray_distance_matrix.qza \\\n",
    "    --m-metadata-file MetaData_ExampleAGP.tsv \\\n",
    "    --m-metadata-column ATTRIBUTE_TypesOfPlants \\\n",
    "    --o-visualization PERMANOVA_spectralCounts_TypesOfPlants.qzv \\\n",
    "    --p-pairwise"
   ]
  },
  {
   "cell_type": "code",
   "execution_count": 34,
   "metadata": {},
   "outputs": [
    {
     "data": {
      "text/html": [
       "<div><img onload=\"(function(div, url){\n",
       "if (typeof require !== 'undefined') {\n",
       "    var baseURL = require.toUrl('').split('/').slice(0, -2).join('/');\n",
       "} else {\n",
       "    var baseURL = JSON.parse(\n",
       "        document.getElementById('jupyter-config-data').innerHTML\n",
       "    ).baseUrl.slice(0, -1);\n",
       "}\n",
       "url = baseURL + url;\n",
       "fetch(url).then(function(res) {\n",
       "    if (res.status === 404) {\n",
       "        div.innerHTML = 'Install QIIME 2 Jupyter extension with:<br />' +\n",
       "                        '<code>jupyter serverextension enable --py qiime2' +\n",
       "                        ' --sys-prefix</code><br />then restart your server.' +\n",
       "                        '<br /><br />(Interactive output not available on ' +\n",
       "                        'static notebook viewer services like nbviewer.)';\n",
       "    } else if (res.status === 409) {\n",
       "        div.innerHTML = 'Visualization no longer in scope. Re-run this cell' +\n",
       "                        ' to see the visualization.';\n",
       "    } else if (res.ok) {\n",
       "        url = res.url;\n",
       "        div.innerHTML = '<iframe src=\\'' + url + '\\' style=\\'' +\n",
       "                        'width: 100%; height: 700px; border: 0;\\'>' +\n",
       "                        '</iframe><hr />Open in a: <a href=\\'' + url + '\\'' +\n",
       "                        ' target=\\'_blank\\'>new window</a>'\n",
       "    } else {\n",
       "        div.innerHTML = 'Something has gone wrong. Check notebook server for' +\n",
       "                        ' errors.';\n",
       "    }\n",
       "});\n",
       "})(this.parentElement, '/qiime2/redirect?location=/var/folders/fh/hzqxnlrs1gg7lmdpsfbknrqc0000gn/T/qiime2-archive-p_9qj0n5')\" src=\"data:image/gif;base64,R0lGODlhAQABAIAAAP///wAAACH5BAEAAAAALAAAAAABAAEAAAICRAEAOw==\" /></div>"
      ],
      "text/plain": [
       "<visualization: Visualization uuid: 7d49b32a-5b7a-4967-ac29-b549606c0d8f>"
      ]
     },
     "execution_count": 34,
     "metadata": {},
     "output_type": "execute_result"
    }
   ],
   "source": [
    "q2.Visualization.load('PERMANOVA_spectralCounts_TypesOfPlants.qzv')"
   ]
  },
  {
   "cell_type": "markdown",
   "metadata": {},
   "source": [
    "For this example dataset we observe that there is no statistcially significant difference between the metabolomic profiles of people consuming less than 5 and over 30 plants respectively."
   ]
  }
 ],
 "metadata": {
  "kernelspec": {
   "display_name": "Python 3",
   "language": "python",
   "name": "python3"
  },
  "language_info": {
   "codemirror_mode": {
    "name": "ipython",
    "version": 3
   },
   "file_extension": ".py",
   "mimetype": "text/x-python",
   "name": "python",
   "nbconvert_exporter": "python",
   "pygments_lexer": "ipython3",
   "version": "3.5.5"
  }
 },
 "nbformat": 4,
 "nbformat_minor": 2
}
